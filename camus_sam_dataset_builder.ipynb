{
 "cells": [
  {
   "cell_type": "code",
   "execution_count": 2,
   "metadata": {},
   "outputs": [],
   "source": [
    "import os\n",
    "import cv2\n",
    "import numpy as np\n",
    "import matplotlib.pyplot as plt\n",
    "from skimage import io\n",
    "import SimpleITK as sitk\n",
    "from tqdm import tqdm"
   ]
  },
  {
   "cell_type": "code",
   "execution_count": 5,
   "metadata": {},
   "outputs": [],
   "source": [
    "def export_yolo_data(\n",
    "    patient_id,\n",
    "    image_export_folder,\n",
    "    annotation_export_folder,\n",
    "    mask_export_folder,\n",
    "    root_folder,\n",
    "):\n",
    "    subfolder = f\"patient0{patient_id:03d}\"\n",
    "\n",
    "    original_files = [\n",
    "        \"2CH_ED\",\n",
    "        \"2CH_ES\",\n",
    "        \"4CH_ED\",\n",
    "        \"4CH_ES\",\n",
    "    ]\n",
    "\n",
    "    for ori_file in original_files:\n",
    "        path1 = os.path.join(root_folder, subfolder, f\"{subfolder}_{ori_file}.nii.gz\")\n",
    "        if not os.path.isfile(path1):\n",
    "            print(f\"Original file not found: {path1}\")\n",
    "            continue\n",
    "\n",
    "        img1 = sitk.GetArrayFromImage(sitk.ReadImage(path1))\n",
    "        img1 = (\n",
    "            img1.astype(np.float32) / img1.max()\n",
    "        )  # Normalize the original image to the range [0, 1]\n",
    "\n",
    "        gt_file = ori_file + \"_gt\"\n",
    "        path2 = os.path.join(root_folder, subfolder, f\"{subfolder}_{gt_file}.nii.gz\")\n",
    "\n",
    "        if os.path.isfile(path2):\n",
    "            img2 = sitk.GetArrayFromImage(sitk.ReadImage(path2))\n",
    "\n",
    "            class_labels = np.unique(img2)\n",
    "\n",
    "            for class_id, class_label in enumerate(class_labels):\n",
    "                if class_label == 0:  # Ignore the background class\n",
    "                    continue\n",
    "\n",
    "                binary_mask = (img2 == class_label).astype(np.uint8)\n",
    "\n",
    "                # Save binary mask\n",
    "                mask_export_path = os.path.join(\n",
    "                    mask_export_folder, f\"{subfolder}_{ori_file}_{class_id}.png\"\n",
    "                )\n",
    "                io.imsave(\n",
    "                    mask_export_path, binary_mask * 255\n",
    "                )  # Convert the mask to 8 bit before saving\n",
    "\n",
    "                # Save the image as a JPEG file with a suffix corresponding to the class ID\n",
    "                img_export_path = os.path.join(\n",
    "                    image_export_folder, f\"{subfolder}_{ori_file}_{class_id}.jpeg\"\n",
    "                )\n",
    "                io.imsave(\n",
    "                    img_export_path, (img1 * 255).astype(np.uint8)\n",
    "                )  # Convert the image to 8 bit before saving\n",
    "\n",
    "                contours, _ = cv2.findContours(\n",
    "                    binary_mask, cv2.RETR_EXTERNAL, cv2.CHAIN_APPROX_SIMPLE\n",
    "                )\n",
    "\n",
    "                # Save the bounding box annotations in a text file\n",
    "                bbox_export_path = os.path.join(\n",
    "                    annotation_export_folder, f\"{subfolder}_{ori_file}_{class_id}.txt\"\n",
    "                )\n",
    "\n",
    "                with open(bbox_export_path, \"w\") as f:\n",
    "                    for contour in contours:\n",
    "                        x, y, w, h = cv2.boundingRect(contour)\n",
    "                        f.write(\n",
    "                            f\"{1} {(x + w / 2) / img1.shape[1]} {(y + h / 2) / img1.shape[0]} {w / img1.shape[1]} {h / img1.shape[0]}\\n\"\n",
    "                        )\n",
    "        else:\n",
    "            print(f\"Corresponding segmentation file not found: {path2}\")\n"
   ]
  },
  {
   "cell_type": "code",
   "execution_count": 7,
   "metadata": {},
   "outputs": [
    {
     "name": "stderr",
     "output_type": "stream",
     "text": [
      " 29%|██▉       | 131/450 [00:29<01:15,  4.23it/s]/tmp/ipykernel_18610/1536861389.py:36: UserWarning: ./out_SAM/train/masks/patient0132_2CH_ED_3.png is a low contrast image\n",
      "  io.imsave(mask_export_path, binary_mask * 255)  # Convert the mask to 8 bit before saving\n",
      " 31%|███▏      | 141/450 [00:31<00:55,  5.60it/s]/tmp/ipykernel_18610/1536861389.py:36: UserWarning: ./out_SAM/train/masks/patient0142_2CH_ED_3.png is a low contrast image\n",
      "  io.imsave(mask_export_path, binary_mask * 255)  # Convert the mask to 8 bit before saving\n",
      " 45%|████▌     | 203/450 [00:44<00:47,  5.24it/s]/tmp/ipykernel_18610/1536861389.py:36: UserWarning: ./out_SAM/train/masks/patient0204_2CH_ED_3.png is a low contrast image\n",
      "  io.imsave(mask_export_path, binary_mask * 255)  # Convert the mask to 8 bit before saving\n",
      "/tmp/ipykernel_18610/1536861389.py:36: UserWarning: ./out_SAM/train/masks/patient0204_2CH_ES_3.png is a low contrast image\n",
      "  io.imsave(mask_export_path, binary_mask * 255)  # Convert the mask to 8 bit before saving\n",
      " 47%|████▋     | 212/450 [00:46<00:40,  5.94it/s]/tmp/ipykernel_18610/1536861389.py:36: UserWarning: ./out_SAM/train/masks/patient0213_2CH_ED_3.png is a low contrast image\n",
      "  io.imsave(mask_export_path, binary_mask * 255)  # Convert the mask to 8 bit before saving\n",
      " 66%|██████▌   | 295/450 [01:04<00:23,  6.55it/s]/tmp/ipykernel_18610/1536861389.py:36: UserWarning: ./out_SAM/train/masks/patient0296_2CH_ED_3.png is a low contrast image\n",
      "  io.imsave(mask_export_path, binary_mask * 255)  # Convert the mask to 8 bit before saving\n",
      " 66%|██████▋   | 299/450 [01:04<00:21,  7.06it/s]/tmp/ipykernel_18610/1536861389.py:36: UserWarning: ./out_SAM/train/masks/patient0301_2CH_ED_3.png is a low contrast image\n",
      "  io.imsave(mask_export_path, binary_mask * 255)  # Convert the mask to 8 bit before saving\n",
      "/tmp/ipykernel_18610/1536861389.py:36: UserWarning: ./out_SAM/train/masks/patient0301_4CH_ED_3.png is a low contrast image\n",
      "  io.imsave(mask_export_path, binary_mask * 255)  # Convert the mask to 8 bit before saving\n",
      " 73%|███████▎  | 329/450 [01:10<00:19,  6.32it/s]/tmp/ipykernel_18610/1536861389.py:36: UserWarning: ./out_SAM/train/masks/patient0330_4CH_ED_3.png is a low contrast image\n",
      "  io.imsave(mask_export_path, binary_mask * 255)  # Convert the mask to 8 bit before saving\n",
      "100%|██████████| 450/450 [01:35<00:00,  4.71it/s]\n"
     ]
    }
   ],
   "source": [
    "image_export_folder = \"./out_SAM/train/images\"\n",
    "annotation_export_folder = \"./out_SAM/train/labels\"\n",
    "mask_export_folder = \"./out_SAM/train/masks\"\n",
    "root_folder = \"/home/aistudent/camus/CAMUS_public/database_nifti\"\n",
    "\n",
    "os.makedirs(image_export_folder, exist_ok=True)\n",
    "os.makedirs(annotation_export_folder, exist_ok=True)\n",
    "os.makedirs(mask_export_folder, exist_ok=True)\n",
    "\n",
    "n_patients = 450\n",
    "\n",
    "for patient_id in tqdm(range(1, n_patients + 1)):\n",
    "    export_yolo_data(\n",
    "        patient_id,\n",
    "        image_export_folder,\n",
    "        annotation_export_folder,\n",
    "        mask_export_folder,\n",
    "        root_folder,\n",
    "    )\n"
   ]
  },
  {
   "cell_type": "code",
   "execution_count": 8,
   "metadata": {},
   "outputs": [
    {
     "name": "stderr",
     "output_type": "stream",
     "text": [
      " 24%|██▍       | 12/50 [00:02<00:07,  5.29it/s]/tmp/ipykernel_18610/1536861389.py:36: UserWarning: ./out_SAM/val/masks/patient0463_2CH_ED_3.png is a low contrast image\n",
      "  io.imsave(mask_export_path, binary_mask * 255)  # Convert the mask to 8 bit before saving\n",
      "100%|██████████| 50/50 [00:09<00:00,  5.19it/s]\n"
     ]
    }
   ],
   "source": [
    "image_export_folder = \"./out_SAM/val/images\"\n",
    "annotation_export_folder = \"./out_SAM/val/labels\"\n",
    "mask_export_folder = \"./out_SAM/val/masks\"\n",
    "root_folder = \"/home/aistudent/camus/CAMUS_public/database_nifti\"\n",
    "\n",
    "os.makedirs(image_export_folder, exist_ok=True)\n",
    "os.makedirs(annotation_export_folder, exist_ok=True)\n",
    "os.makedirs(mask_export_folder, exist_ok=True)\n",
    "\n",
    "n_patients = 500\n",
    "\n",
    "for patient_id in tqdm(range(451, n_patients + 1)):\n",
    "    export_yolo_data(\n",
    "        patient_id,\n",
    "        image_export_folder,\n",
    "        annotation_export_folder,\n",
    "        mask_export_folder,\n",
    "        root_folder,\n",
    "    )\n"
   ]
  },
  {
   "cell_type": "code",
   "execution_count": 3,
   "metadata": {},
   "outputs": [],
   "source": [
    "from datasets import Dataset, DatasetDict\n",
    "from PIL import Image\n",
    "import numpy as np\n",
    "import os\n",
    "\n",
    "\n",
    "def load_images(folder: str):\n",
    "    image_files = os.listdir(folder)\n",
    "    return [Image.open(os.path.join(folder, file)) for file in image_files]\n",
    "\n",
    "\n",
    "def load_dataset() -> DatasetDict:\n",
    "    # Load the image and mask from the folders\n",
    "    train_images = load_images(\"out_SAM/train/images\")\n",
    "    train_masks = load_images(\"out_SAM/train/masks\")\n",
    "    val_images = load_images(\"out_SAM/val/images\")\n",
    "    val_masks = load_images(\"out_SAM/val/masks\")\n",
    "\n",
    "    # Create dict datasets\n",
    "    train_dataset = Dataset.from_dict({\"image\": train_images, \"label\": train_masks})\n",
    "    val_dataset = Dataset.from_dict({\"image\": val_images, \"label\": val_masks})\n",
    "\n",
    "    # Combine them into a dataset split dictionary\n",
    "    dataset = DatasetDict({\"train\": train_dataset, \"validation\": val_dataset})\n",
    "    return dataset\n",
    "\n",
    "\n",
    "dataset = load_dataset()\n"
   ]
  },
  {
   "cell_type": "code",
   "execution_count": 4,
   "metadata": {},
   "outputs": [
    {
     "data": {
      "text/plain": [
       "DatasetDict({\n",
       "    train: Dataset({\n",
       "        features: ['image', 'label'],\n",
       "        num_rows: 5400\n",
       "    })\n",
       "    validation: Dataset({\n",
       "        features: ['image', 'label'],\n",
       "        num_rows: 600\n",
       "    })\n",
       "})"
      ]
     },
     "execution_count": 4,
     "metadata": {},
     "output_type": "execute_result"
    }
   ],
   "source": [
    "dataset"
   ]
  },
  {
   "cell_type": "code",
   "execution_count": 5,
   "metadata": {},
   "outputs": [
    {
     "data": {
      "text/plain": [
       "{'image': <PIL.JpegImagePlugin.JpegImageFile image mode=L size=748x616>,\n",
       " 'label': <PIL.PngImagePlugin.PngImageFile image mode=L size=708x584>}"
      ]
     },
     "execution_count": 5,
     "metadata": {},
     "output_type": "execute_result"
    }
   ],
   "source": [
    "dataset['train'][0]"
   ]
  },
  {
   "cell_type": "code",
   "execution_count": 6,
   "metadata": {},
   "outputs": [
    {
     "data": {
      "application/vnd.jupyter.widget-view+json": {
       "model_id": "41040ce694c04231aa6bc683487fee1a",
       "version_major": 2,
       "version_minor": 0
      },
      "text/plain": [
       "Saving the dataset (0/1 shards):   0%|          | 0/5400 [00:00<?, ? examples/s]"
      ]
     },
     "metadata": {},
     "output_type": "display_data"
    },
    {
     "data": {
      "application/vnd.jupyter.widget-view+json": {
       "model_id": "f8a5b732d2a942568c5ede973c1f477a",
       "version_major": 2,
       "version_minor": 0
      },
      "text/plain": [
       "Saving the dataset (0/1 shards):   0%|          | 0/600 [00:00<?, ? examples/s]"
      ]
     },
     "metadata": {},
     "output_type": "display_data"
    }
   ],
   "source": [
    "# Save the dataset\n",
    "dataset.save_to_disk(\"camus_sam_ds\")"
   ]
  },
  {
   "cell_type": "code",
   "execution_count": null,
   "metadata": {},
   "outputs": [],
   "source": []
  }
 ],
 "metadata": {
  "kernelspec": {
   "display_name": "base",
   "language": "python",
   "name": "python3"
  },
  "language_info": {
   "codemirror_mode": {
    "name": "ipython",
    "version": 3
   },
   "file_extension": ".py",
   "mimetype": "text/x-python",
   "name": "python",
   "nbconvert_exporter": "python",
   "pygments_lexer": "ipython3",
   "version": "3.10.14"
  }
 },
 "nbformat": 4,
 "nbformat_minor": 2
}
